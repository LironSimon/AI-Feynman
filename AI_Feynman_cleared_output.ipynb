{
  "nbformat": 4,
  "nbformat_minor": 0,
  "metadata": {
    "colab": {
      "name": "AI-Feynman.ipynb",
      "provenance": [],
      "collapsed_sections": [],
      "toc_visible": true,
      "authorship_tag": "ABX9TyPxs2qEhVjgIf/ihm6U1UqJ",
      "include_colab_link": true
    },
    "kernelspec": {
      "name": "python3",
      "display_name": "Python 3"
    },
    "accelerator": "GPU"
  },
  "cells": [
    {
      "cell_type": "markdown",
      "metadata": {
        "id": "view-in-github",
        "colab_type": "text"
      },
      "source": [
        "<a href=\"https://colab.research.google.com/github/dcshapiro/AI-Feynman/blob/master/AI_Feynman_cleared_output.ipynb\" target=\"_parent\"><img src=\"https://colab.research.google.com/assets/colab-badge.svg\" alt=\"Open In Colab\"/></a>"
      ]
    },
    {
      "cell_type": "markdown",
      "metadata": {
        "id": "ir7_gq53qkUC",
        "colab_type": "text"
      },
      "source": [
        "# AI Feynman 2.0: Learning Regression Equations From Data"
      ]
    },
    {
      "cell_type": "markdown",
      "metadata": {
        "id": "e2Lh5Lakqo_l",
        "colab_type": "text"
      },
      "source": [
        "### Clone repository and install dependencies"
      ]
    },
    {
      "cell_type": "code",
      "metadata": {
        "id": "EBVOTDjUWEzw",
        "colab_type": "code",
        "colab": {}
      },
      "source": [
        "!git clone https://github.com/SJ001/AI-Feynman.git"
      ],
      "execution_count": null,
      "outputs": []
    },
    {
      "cell_type": "markdown",
      "metadata": {
        "id": "0_s1t2sIqwnK",
        "colab_type": "text"
      },
      "source": [
        "Look at what we downloaded"
      ]
    },
    {
      "cell_type": "code",
      "metadata": {
        "id": "4waRdiP0WGWc",
        "colab_type": "code",
        "colab": {}
      },
      "source": [
        "!ls /content/AI-Feynman\n",
        "# %pycat AI-Feynman/requirements.txt if you need to fix the dependencies"
      ],
      "execution_count": null,
      "outputs": []
    },
    {
      "cell_type": "markdown",
      "metadata": {
        "id": "zNyUWmlYq-Rk",
        "colab_type": "text"
      },
      "source": [
        "Fix broken requirements file (may not be needed if later versions fix this)."
      ]
    },
    {
      "cell_type": "code",
      "metadata": {
        "id": "6JmUiyv3W95L",
        "colab_type": "code",
        "colab": {}
      },
      "source": [
        "%%writefile AI-Feynman/requirements.txt\n",
        "torch>=1.4.0\n",
        "matplotlib\n",
        "sympy==1.4\n",
        "pandas\n",
        "scipy\n",
        "sortedcontainers"
      ],
      "execution_count": null,
      "outputs": []
    },
    {
      "cell_type": "markdown",
      "metadata": {
        "id": "Kbqe9q-SrE4q",
        "colab_type": "text"
      },
      "source": [
        "Install dependencies not already installed in Google Collab"
      ]
    },
    {
      "cell_type": "code",
      "metadata": {
        "id": "Um22QVI3WlJT",
        "colab_type": "code",
        "colab": {}
      },
      "source": [
        "!pip install -r AI-Feynman/requirements.txt"
      ],
      "execution_count": null,
      "outputs": []
    },
    {
      "cell_type": "markdown",
      "metadata": {
        "id": "fR33HG3TrLRL",
        "colab_type": "text"
      },
      "source": [
        "Check that fortran is installed"
      ]
    },
    {
      "cell_type": "code",
      "metadata": {
        "id": "WwBFL0AwXcUZ",
        "colab_type": "code",
        "colab": {}
      },
      "source": [
        "!gfortran --version"
      ],
      "execution_count": null,
      "outputs": []
    },
    {
      "cell_type": "markdown",
      "metadata": {
        "id": "FtKFAwpNsHX7",
        "colab_type": "text"
      },
      "source": [
        "Check the OS version"
      ]
    },
    {
      "cell_type": "code",
      "metadata": {
        "id": "Hy62bRwAcp5g",
        "colab_type": "code",
        "colab": {}
      },
      "source": [
        "!lsb_release -a"
      ],
      "execution_count": null,
      "outputs": []
    },
    {
      "cell_type": "markdown",
      "metadata": {
        "id": "NTOdJQLOrv20",
        "colab_type": "text"
      },
      "source": [
        "Install the csh shell"
      ]
    },
    {
      "cell_type": "code",
      "metadata": {
        "id": "F5TroOkDc9jK",
        "colab_type": "code",
        "colab": {}
      },
      "source": [
        "!sudo apt-get install csh"
      ],
      "execution_count": null,
      "outputs": []
    },
    {
      "cell_type": "markdown",
      "metadata": {
        "id": "8KcupiFsr4gr",
        "colab_type": "text"
      },
      "source": [
        "Set loose permissions to avoid some reported file permissions issues"
      ]
    },
    {
      "cell_type": "code",
      "metadata": {
        "id": "QJBFXqQVX5AN",
        "colab_type": "code",
        "colab": {}
      },
      "source": [
        "!chmod +777 /content/AI-Feynman/Code/*"
      ],
      "execution_count": null,
      "outputs": []
    },
    {
      "cell_type": "markdown",
      "metadata": {
        "id": "pgzVt-kUrbmj",
        "colab_type": "text"
      },
      "source": [
        "### Compile the fortran code"
      ]
    },
    {
      "cell_type": "markdown",
      "metadata": {
        "id": "4MotXJzusela",
        "colab_type": "text"
      },
      "source": [
        "Look at the code directory"
      ]
    },
    {
      "cell_type": "code",
      "metadata": {
        "id": "xxzHegrIYa8e",
        "colab_type": "code",
        "colab": {}
      },
      "source": [
        "!ls -l /content/AI-Feynman/Code"
      ],
      "execution_count": null,
      "outputs": []
    },
    {
      "cell_type": "markdown",
      "metadata": {
        "id": "jsdWh0MbsZ9e",
        "colab_type": "text"
      },
      "source": [
        "Compile .f files into .x files"
      ]
    },
    {
      "cell_type": "code",
      "metadata": {
        "id": "cHJqLCM_dRzD",
        "colab_type": "code",
        "colab": {}
      },
      "source": [
        "!cd /content/AI-Feynman/Code/ && ./compile.sh"
      ],
      "execution_count": null,
      "outputs": []
    },
    {
      "cell_type": "markdown",
      "metadata": {
        "id": "4yfMwApUtwQT",
        "colab_type": "text"
      },
      "source": [
        "### Run the first example from the AI-Feynman repository"
      ]
    },
    {
      "cell_type": "markdown",
      "metadata": {
        "id": "srBnePXLs2jT",
        "colab_type": "text"
      },
      "source": [
        "Change working directory to the Code directory"
      ]
    },
    {
      "cell_type": "code",
      "metadata": {
        "id": "RsOEGP9-s0bq",
        "colab_type": "code",
        "colab": {}
      },
      "source": [
        "import os\n",
        "os.chdir(\"/content/AI-Feynman/Code/\")\n",
        "print(os.getcwd())"
      ],
      "execution_count": null,
      "outputs": []
    },
    {
      "cell_type": "code",
      "metadata": {
        "id": "Qg8AHI11tBqj",
        "colab_type": "code",
        "colab": {}
      },
      "source": [
        "!pwd"
      ],
      "execution_count": null,
      "outputs": []
    },
    {
      "cell_type": "code",
      "metadata": {
        "id": "I6GEtqkYYwfF",
        "colab_type": "code",
        "colab": {}
      },
      "source": [
        "%%writefile ai_feynman_magic.py\n",
        "from S_run_aifeynman import run_aifeynman\n",
        "# Run example 1 as the regression dataset\n",
        "run_aifeynman(\"/content/AI-Feynman/example_data/\",\"example1.txt\",30,\"14ops.txt\", polyfit_deg=3, NN_epochs=400)"
      ],
      "execution_count": null,
      "outputs": []
    },
    {
      "cell_type": "markdown",
      "metadata": {
        "id": "qCyuBoLNtjaM",
        "colab_type": "text"
      },
      "source": [
        "Look at the first line of the example 1 file"
      ]
    },
    {
      "cell_type": "code",
      "metadata": {
        "id": "Ac-xU-H4tbud",
        "colab_type": "code",
        "colab": {}
      },
      "source": [
        "!head -n 1 /content/AI-Feynman/example_data/example1.txt"
      ],
      "execution_count": null,
      "outputs": []
    },
    {
      "cell_type": "code",
      "metadata": {
        "id": "cArs6MVap768",
        "colab_type": "code",
        "colab": {}
      },
      "source": [
        "# Example 1 has data generated from an equation, where the last column is the regression target, and the rest of the columns are the input data\n",
        "# The following example shows the relationship between the first line of the file example1.txt and the formula used to make the data\n",
        "x=[1.6821347439986711,1.1786188905177983,4.749225735259924,1.3238356535004034,3.462199507094163]\n",
        "x0,x1,x2,x3=x[0],x[1],x[2],x[3]\n",
        "(x0**2 - 2*x0*x1 + x1**2 + x2**2 - 2*x2*x3 + x3**2)**0.5"
      ],
      "execution_count": null,
      "outputs": []
    },
    {
      "cell_type": "markdown",
      "metadata": {
        "id": "OmFXwbhMt_Ra",
        "colab_type": "text"
      },
      "source": [
        "Run the code. It takes a long time, so go get some coffee."
      ]
    },
    {
      "cell_type": "code",
      "metadata": {
        "id": "fsoK-mYva1z7",
        "colab_type": "code",
        "colab": {}
      },
      "source": [
        "!cd /content/AI-Feynman/Code/ && python3 ai_feynman_magic.py"
      ],
      "execution_count": null,
      "outputs": []
    },
    {
      "cell_type": "markdown",
      "metadata": {
        "id": "qC1qzqP-uMmP",
        "colab_type": "text"
      },
      "source": [
        "### Assess the results"
      ]
    },
    {
      "cell_type": "code",
      "metadata": {
        "id": "6_t9u4eOZdYf",
        "colab_type": "code",
        "colab": {}
      },
      "source": [
        "!cat results.dat "
      ],
      "execution_count": null,
      "outputs": []
    },
    {
      "cell_type": "markdown",
      "metadata": {
        "id": "V75LJuObuXnx",
        "colab_type": "text"
      },
      "source": [
        "We found a candidate with an excellent fit, let's see what we got"
      ]
    },
    {
      "cell_type": "code",
      "metadata": {
        "id": "Irdi5kFSeY6a",
        "colab_type": "code",
        "colab": {}
      },
      "source": [
        "!ls -l /content/AI-Feynman/Code/results/"
      ],
      "execution_count": null,
      "outputs": []
    },
    {
      "cell_type": "code",
      "metadata": {
        "id": "i4Hb-1mfZ40K",
        "colab_type": "code",
        "colab": {}
      },
      "source": [
        "!ls -l /content/AI-Feynman/Code/results/NN_trained_models/models"
      ],
      "execution_count": null,
      "outputs": []
    },
    {
      "cell_type": "code",
      "metadata": {
        "id": "T-_FGDrKZ-UK",
        "colab_type": "code",
        "colab": {}
      },
      "source": [
        "!cat /content/AI-Feynman/Code/results/solution_example1.txt"
      ],
      "execution_count": null,
      "outputs": []
    },
    {
      "cell_type": "markdown",
      "metadata": {
        "id": "wlPb6mmUuiVx",
        "colab_type": "text"
      },
      "source": [
        "Note in the cell above that the solution with the lowest loss is the formula this data was generated from"
      ]
    },
    {
      "cell_type": "markdown",
      "metadata": {
        "id": "jEW676sLuyby",
        "colab_type": "text"
      },
      "source": [
        "### Try our own dataset generation and equation learning"
      ]
    },
    {
      "cell_type": "markdown",
      "metadata": {
        "id": "U5NZsuRAu565",
        "colab_type": "text"
      },
      "source": [
        "Until now we were not storing the results in Google Drive. We might want to keep the data in Drive so that the results don't disappear when this Collab instance gets nice and dead."
      ]
    },
    {
      "cell_type": "code",
      "metadata": {
        "id": "ooPXlIquaIPT",
        "colab_type": "code",
        "colab": {}
      },
      "source": [
        "from google.colab import drive\n",
        "drive.mount('/content/gdrive', force_remount=True)"
      ],
      "execution_count": null,
      "outputs": []
    },
    {
      "cell_type": "markdown",
      "metadata": {
        "id": "cjuGAHMkvJUp",
        "colab_type": "text"
      },
      "source": [
        "Make a directory in the mounted Google Drive where we will do our work"
      ]
    },
    {
      "cell_type": "code",
      "metadata": {
        "id": "MatDxUYbaljy",
        "colab_type": "code",
        "colab": {}
      },
      "source": [
        "!mkdir -p /content/gdrive/My\\ Drive/Lemay.ai_research/AI-Feynman"
      ],
      "execution_count": null,
      "outputs": []
    },
    {
      "cell_type": "markdown",
      "metadata": {
        "id": "6l8jAG8jvN6S",
        "colab_type": "text"
      },
      "source": [
        "Copy over the stuff we did so far, and from now on we work out of Google Drive"
      ]
    },
    {
      "cell_type": "code",
      "metadata": {
        "id": "aQAQu1NSaz7U",
        "colab_type": "code",
        "colab": {}
      },
      "source": [
        "!cp -r /content/AI-Feynman /content/gdrive/My\\ Drive/Lemay.ai_research/"
      ],
      "execution_count": null,
      "outputs": []
    },
    {
      "cell_type": "markdown",
      "metadata": {
        "id": "dPhMWSuKvV-d",
        "colab_type": "text"
      },
      "source": [
        "The code below generates our regression example dataset\n",
        "\n",
        "We generate points for 4 columns, where x0 is from the same equation as x1, and x2 is from the same equation as x3\n",
        "The last column is Y"
      ]
    },
    {
      "cell_type": "code",
      "metadata": {
        "id": "5y4iD0fvbFEz",
        "colab_type": "code",
        "colab": {}
      },
      "source": [
        "import os\n",
        "import random\n",
        "\n",
        "os.chdir(\"/content/gdrive/My Drive/Lemay.ai_research/AI-Feynman/example_data\")\n",
        "\n",
        "def getY(x01,x23):\n",
        "  y = -0.5*x01+0.5*x23+3\n",
        "  return y\n",
        "\n",
        "def getRow():\n",
        "  [x0,x2]=[random.random() for x in range(2)]\n",
        "  x1=x0\n",
        "  x3=x2\n",
        "  y=getY(x1,x3)\n",
        "  return str(x0)+\" \"+str(x1)+\" \"+str(x2)+\" \"+str(x3)+\" \"+str(y)+\"\\n\"\n",
        "\n",
        "with open(\"duplicateVarsExample.txt\", \"w\") as f:\n",
        "  for _ in range(10000):\n",
        "    f.write(getRow())\n",
        "f.close()\n",
        "\n",
        "# switch back to the code directory\n",
        "os.chdir(\"/content/gdrive/My Drive/Lemay.ai_research/AI-Feynman/Code\")"
      ],
      "execution_count": null,
      "outputs": []
    },
    {
      "cell_type": "markdown",
      "metadata": {
        "id": "rffFg4OeEWzg",
        "colab_type": "text"
      },
      "source": [
        "Let's look at our data"
      ]
    },
    {
      "cell_type": "code",
      "metadata": {
        "id": "EMHOxgMtmNCv",
        "colab_type": "code",
        "colab": {}
      },
      "source": [
        "!head -n 20 ../example_data/duplicateVarsExample.txt"
      ],
      "execution_count": null,
      "outputs": []
    },
    {
      "cell_type": "markdown",
      "metadata": {
        "id": "irYPRgZWxzp2",
        "colab_type": "text"
      },
      "source": [
        "Let's also plot the data for x01 and x23 against Y"
      ]
    },
    {
      "cell_type": "code",
      "metadata": {
        "id": "0rhkKvDxnTTx",
        "colab_type": "code",
        "colab": {}
      },
      "source": [
        "%matplotlib inline\n",
        "import matplotlib.pyplot as plt\n",
        "import pandas as pd\n",
        "plt.style.use('seaborn-whitegrid')\n",
        "import numpy as np\n",
        "\n",
        "df=pd.read_csv(\"../example_data/duplicateVarsExample.txt\",sep=\" \",header=None)\n",
        "df.plot.scatter(x=0, y=4)\n",
        "df.plot.scatter(x=2, y=4)"
      ],
      "execution_count": null,
      "outputs": []
    },
    {
      "cell_type": "code",
      "metadata": {
        "id": "XMAXf1MuyAJp",
        "colab_type": "code",
        "colab": {}
      },
      "source": [
        "!pwd"
      ],
      "execution_count": null,
      "outputs": []
    },
    {
      "cell_type": "markdown",
      "metadata": {
        "id": "gRl63S3TyQqy",
        "colab_type": "text"
      },
      "source": [
        "Let's write out the runner file for this experiment"
      ]
    },
    {
      "cell_type": "code",
      "metadata": {
        "id": "r__k40topc3Q",
        "colab_type": "code",
        "colab": {}
      },
      "source": [
        "%%writefile ai_feynman_duplicate_variables.py\n",
        "from S_run_aifeynman import run_aifeynman\n",
        "run_aifeynman(\"/content/gdrive/My Drive/Lemay.ai_research/AI-Feynman/example_data/\",\"duplicateVarsExample.txt\",30,\"14ops.txt\", polyfit_deg=3, NN_epochs=400)"
      ],
      "execution_count": null,
      "outputs": []
    },
    {
      "cell_type": "markdown",
      "metadata": {
        "id": "mU3I8guyyrlA",
        "colab_type": "text"
      },
      "source": [
        "Don't forget to lower the file permissions"
      ]
    },
    {
      "cell_type": "code",
      "metadata": {
        "id": "42rAjIOSyvHy",
        "colab_type": "code",
        "colab": {}
      },
      "source": [
        "!chmod 777 /content/gdrive/My\\ Drive/Lemay.ai_research/AI-Feynman/Code/*\n",
        "!chmod +x /content/gdrive/My\\ Drive/Lemay.ai_research/AI-Feynman/Code/*.scr"
      ],
      "execution_count": null,
      "outputs": []
    },
    {
      "cell_type": "markdown",
      "metadata": {
        "id": "DHwDA3S7yXHa",
        "colab_type": "text"
      },
      "source": [
        "Now we run the file, and go get more coffee, because this is not going to be fast..."
      ]
    },
    {
      "cell_type": "code",
      "metadata": {
        "id": "Ax6F2u2kyVvk",
        "colab_type": "code",
        "colab": {}
      },
      "source": [
        "!python3 ai_feynman_duplicate_variables.py"
      ],
      "execution_count": null,
      "outputs": []
    },
    {
      "cell_type": "markdown",
      "metadata": {
        "id": "N68vBSQS23lc",
        "colab_type": "text"
      },
      "source": [
        "Initial models quickly mapped to x0 and x2 (the system realized x1 and x3 are duplicates and so not needed)\n",
        "\n",
        "Later on the system found 3.000000000000+log(sqrt(exp((x2-x1)))) which is a bit crazy but looks like a plane\n",
        "\n",
        "We can see on Wolfram alpha that an equivalent form of this equation is:\n",
        "\n",
        "(x2 - x1)/2 + 3.000000000000 \n",
        "\n",
        "which is what we used to generate the dataset!\n",
        "\n",
        "Link: https://www.wolframalpha.com/input/?i=3.000000000000%2Blog%28sqrt%28exp%28%28x2-x1%29%29%29%29"
      ]
    },
    {
      "cell_type": "code",
      "metadata": {
        "id": "YSnT1Gg03BST",
        "colab_type": "code",
        "colab": {}
      },
      "source": [
        "!ls -l /content/gdrive/My\\ Drive/Lemay.ai_research/AI-Feynman/Code/results/"
      ],
      "execution_count": null,
      "outputs": []
    },
    {
      "cell_type": "code",
      "metadata": {
        "id": "rfPnJPCaA6WW",
        "colab_type": "code",
        "colab": {}
      },
      "source": [
        "!cat /content/gdrive/My\\ Drive/Lemay.ai_research/AI-Feynman/Code/results/solution_duplicateVarsExample.txt"
      ],
      "execution_count": null,
      "outputs": []
    },
    {
      "cell_type": "markdown",
      "metadata": {
        "id": "Lr7TWHpdAzKP",
        "colab_type": "text"
      },
      "source": [
        "The solver settled on *log(sqrt(exp(-x1 + x3))) + 3.0* which we know is correct\n",
        "\n",
        "Now, that was a bit of a softball problem as it has an exact solution. Let's now add noise to the dataset and see how the library holds up"
      ]
    },
    {
      "cell_type": "markdown",
      "metadata": {
        "id": "BBx752pb3gA6",
        "colab_type": "text"
      },
      "source": [
        "### Let's add small amount of noise to every variabe and see the fit quality"
      ]
    },
    {
      "cell_type": "markdown",
      "metadata": {
        "id": "sxD1DilJBf2a",
        "colab_type": "text"
      },
      "source": [
        "We do the same thing as before, but now we add or subtract noise to x0,x1,x2,x3 after generating y"
      ]
    },
    {
      "cell_type": "code",
      "metadata": {
        "id": "nEWAmNke3nuM",
        "colab_type": "code",
        "colab": {}
      },
      "source": [
        "import os\n",
        "import random\n",
        "\n",
        "os.chdir(\"/content/gdrive/My Drive/Lemay.ai_research/AI-Feynman/example_data\")\n",
        "\n",
        "def getY(x01,x23):\n",
        "  y = -0.5*x01+0.5*x23+3\n",
        "  return y\n",
        "\n",
        "def getRow():\n",
        "  x=[random.random() for x in range(4)]\n",
        "  x[1]=x[0]\n",
        "  x[3]=x[2]\n",
        "  y=getY(x[1],x[3])\n",
        "  mu=0\n",
        "  sigma=0.05\n",
        "  noise=np.random.normal(mu, sigma, 4)\n",
        "  x=x+noise\n",
        "  return str(x[0])+\" \"+str(x[1])+\" \"+str(x[2])+\" \"+str(x[3])+\" \"+str(y)+\"\\n\"\n",
        "\n",
        "with open(\"duplicateVarsWithNoise100k.txt\", \"w\") as f:\n",
        "  for _ in range(100000):\n",
        "    f.write(getRow())\n",
        "f.close()\n",
        "\n",
        "# switch back to the code directory\n",
        "os.chdir(\"/content/gdrive/My Drive/Lemay.ai_research/AI-Feynman/Code\")"
      ],
      "execution_count": null,
      "outputs": []
    },
    {
      "cell_type": "markdown",
      "metadata": {
        "id": "GhKiDHU4Eau_",
        "colab_type": "text"
      },
      "source": [
        "Let's have a look at the data"
      ]
    },
    {
      "cell_type": "code",
      "metadata": {
        "id": "r66strV1DrLD",
        "colab_type": "code",
        "colab": {}
      },
      "source": [
        "!head -n 20 ../example_data/duplicateVarsWithNoise100k.txt"
      ],
      "execution_count": null,
      "outputs": []
    },
    {
      "cell_type": "markdown",
      "metadata": {
        "id": "EK45_2NtEquA",
        "colab_type": "text"
      },
      "source": [
        "Now let's plot the data"
      ]
    },
    {
      "cell_type": "code",
      "metadata": {
        "id": "yeHBIS9DEc8H",
        "colab_type": "code",
        "colab": {}
      },
      "source": [
        "%matplotlib inline\n",
        "import matplotlib.pyplot as plt\n",
        "import pandas as pd\n",
        "plt.style.use('seaborn-whitegrid')\n",
        "import numpy as np\n",
        "\n",
        "df=pd.read_csv(\"../example_data/duplicateVarsWithNoise100k.txt\",sep=\" \",header=None)\n",
        "df.plot.scatter(x=0, y=4)\n",
        "df.plot.scatter(x=1, y=4)\n",
        "df.plot.scatter(x=2, y=4)\n",
        "df.plot.scatter(x=3, y=4)"
      ],
      "execution_count": null,
      "outputs": []
    },
    {
      "cell_type": "code",
      "metadata": {
        "id": "3WaejzZWEwMx",
        "colab_type": "code",
        "colab": {}
      },
      "source": [
        "%%writefile ai_feynman_duplicateVarsWithNoise.py\n",
        "from S_run_aifeynman import run_aifeynman\n",
        "run_aifeynman(\"/content/gdrive/My Drive/Lemay.ai_research/AI-Feynman/example_data/\",\"duplicateVarsWithNoise100k.txt\",30,\"14ops.txt\", polyfit_deg=3, NN_epochs=600)"
      ],
      "execution_count": null,
      "outputs": []
    },
    {
      "cell_type": "code",
      "metadata": {
        "id": "wK0PnqyfIPgU",
        "colab_type": "code",
        "colab": {}
      },
      "source": [
        "!chmod +777 /content/gdrive/My\\ Drive/Lemay.ai_research/AI-Feynman/Code/*\n",
        "!chmod +777 /content/gdrive/My\\ Drive/Lemay.ai_research/AI-Feynman/*\n",
        "# switch back to the code directory\n",
        "os.chdir(\"/content/gdrive/My Drive/Lemay.ai_research/AI-Feynman/Code/\")"
      ],
      "execution_count": null,
      "outputs": []
    },
    {
      "cell_type": "code",
      "metadata": {
        "id": "lZ7MBMh_KCiO",
        "colab_type": "code",
        "colab": {}
      },
      "source": [
        "!pwd"
      ],
      "execution_count": null,
      "outputs": []
    },
    {
      "cell_type": "code",
      "metadata": {
        "id": "mdgZoqVKKFKE",
        "colab_type": "code",
        "colab": {}
      },
      "source": [
        "!chmod +x /content/gdrive/My\\ Drive/Lemay.ai_research/AI-Feynman/Code/*.scr\n",
        "!ls -l *.scr"
      ],
      "execution_count": null,
      "outputs": []
    },
    {
      "cell_type": "code",
      "metadata": {
        "id": "DWwOCnPbJWIe",
        "colab_type": "code",
        "colab": {}
      },
      "source": [
        "print(os.getcwd())\n",
        "!sudo python3 ai_feynman_duplicateVarsWithNoise.py"
      ],
      "execution_count": null,
      "outputs": []
    },
    {
      "cell_type": "code",
      "metadata": {
        "id": "Nv89UprvOWrJ",
        "colab_type": "code",
        "colab": {}
      },
      "source": [
        "%%writefile ai_feynman_duplicateVarsWithNoise3.py\n",
        "from S_run_aifeynman import run_aifeynman\n",
        "run_aifeynman(\"/content/gdrive/My Drive/Lemay.ai_research/AI-Feynman/example_data/\",\"duplicateVarsWithNoise.txt\",30,\"19ops.txt\", polyfit_deg=3, NN_epochs=1000)"
      ],
      "execution_count": null,
      "outputs": []
    },
    {
      "cell_type": "code",
      "metadata": {
        "id": "1nT4GvIEjp4f",
        "colab_type": "code",
        "colab": {}
      },
      "source": [
        "print(os.getcwd())\n",
        "!sudo python3 ai_feynman_duplicateVarsWithNoise3.py"
      ],
      "execution_count": null,
      "outputs": []
    },
    {
      "cell_type": "markdown",
      "metadata": {
        "id": "9-NYX595lCPd",
        "colab_type": "text"
      },
      "source": [
        "### No duplicate columns but same noise"
      ]
    },
    {
      "cell_type": "code",
      "metadata": {
        "id": "5BlxdiAGuuOh",
        "colab_type": "code",
        "colab": {}
      },
      "source": [
        "import os\n",
        "import random\n",
        "import numpy as np\n",
        "os.chdir(\"/content/gdrive/My Drive/Lemay.ai_research/AI-Feynman/example_data\")\n",
        "\n",
        "def getY(x01,x23):\n",
        "  y = -0.5*x01+0.5*x23+3\n",
        "  return y\n",
        "\n",
        "def getRow():\n",
        "  x=[0 for x in range(4)]\n",
        "  x[1]=random.random()\n",
        "  x[3]=random.random()\n",
        "  y=getY(x[1],x[3])\n",
        "  mu=0\n",
        "  sigma=0.05\n",
        "  noise=np.random.normal(mu, sigma, 4)\n",
        "  x=x+noise\n",
        "  return str(x[1])+\" \"+str(x[3])+\" \"+str(y)+\"\\n\"\n",
        "\n",
        "with open(\"varsWithNoise.txt\", \"w\") as f:\n",
        "  for _ in range(100000):\n",
        "    f.write(getRow())\n",
        "f.close()\n",
        "\n",
        "# switch back to the code directory\n",
        "os.chdir(\"/content/gdrive/My Drive/Lemay.ai_research/AI-Feynman/Code\")"
      ],
      "execution_count": null,
      "outputs": []
    },
    {
      "cell_type": "code",
      "metadata": {
        "id": "hhBVHdOdmN6u",
        "colab_type": "code",
        "colab": {}
      },
      "source": [
        "%matplotlib inline\n",
        "import matplotlib.pyplot as plt\n",
        "import pandas as pd\n",
        "plt.style.use('seaborn-whitegrid')\n",
        "import numpy as np\n",
        "\n",
        "df=pd.read_csv(\"../example_data/varsWithNoise.txt\",sep=\" \",header=None)\n",
        "df.plot.scatter(x=0, y=2)\n",
        "df.plot.scatter(x=1, y=2)"
      ],
      "execution_count": null,
      "outputs": []
    },
    {
      "cell_type": "code",
      "metadata": {
        "id": "0cOAKEZ5RMEW",
        "colab_type": "code",
        "colab": {}
      },
      "source": [
        "%%writefile ai_feynman_varsWithNoise.py\n",
        "from S_run_aifeynman import run_aifeynman\n",
        "run_aifeynman(\"/content/gdrive/My Drive/Lemay.ai_research/AI-Feynman/example_data/\",\"varsWithNoise.txt\",30,\"14ops.txt\", polyfit_deg=3, NN_epochs=1000)"
      ],
      "execution_count": null,
      "outputs": []
    },
    {
      "cell_type": "code",
      "metadata": {
        "id": "aITil01QRZlo",
        "colab_type": "code",
        "colab": {}
      },
      "source": [
        "!sudo python3 ai_feynman_varsWithNoise.py"
      ],
      "execution_count": null,
      "outputs": []
    },
    {
      "cell_type": "code",
      "metadata": {
        "id": "xnrg6-NzRg4t",
        "colab_type": "code",
        "colab": {}
      },
      "source": [
        ""
      ],
      "execution_count": null,
      "outputs": []
    }
  ]
}